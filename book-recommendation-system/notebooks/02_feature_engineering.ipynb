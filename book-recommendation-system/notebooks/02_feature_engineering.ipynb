{
 "cells": [
  {
   "cell_type": "code",
   "execution_count": 1,
   "id": "43a506f1",
   "metadata": {},
   "outputs": [
    {
     "name": "stdout",
     "output_type": "stream",
     "text": [
      "Data loaded successfully!\n"
     ]
    }
   ],
   "source": [
    "import pandas as pd\n",
    "import numpy as np\n",
    "\n",
    "# Load the data again\n",
    "DATA_PATH = '../data/raw/'\n",
    "books_df = pd.read_csv(f'{DATA_PATH}books.csv')\n",
    "ratings_df = pd.read_csv(f'{DATA_PATH}ratings.csv')\n",
    "tags_df = pd.read_csv(f'{DATA_PATH}tags.csv')\n",
    "book_tags_df = pd.read_csv(f'{DATA_PATH}book_tags.csv')\n",
    "\n",
    "print(\"Data loaded successfully!\")"
   ]
  },
  {
   "cell_type": "code",
   "execution_count": 2,
   "id": "6e46ddf7",
   "metadata": {},
   "outputs": [
    {
     "name": "stdout",
     "output_type": "stream",
     "text": [
      "Combined tags for each book:\n"
     ]
    },
    {
     "name": "stderr",
     "output_type": "stream",
     "text": [
      "C:\\Users\\Hp\\AppData\\Local\\Temp\\ipykernel_17576\\1243296825.py:9: FutureWarning: DataFrameGroupBy.apply operated on the grouping columns. This behavior is deprecated, and in a future version of pandas the grouping columns will be excluded from the operation. Either pass `include_groups=False` to exclude the groupings or explicitly select the grouping columns after groupby to silence this warning.\n",
      "  book_content = book_tags_with_names.groupby('goodreads_book_id').apply(combine_tags).reset_index()\n"
     ]
    },
    {
     "data": {
      "text/html": [
       "<div>\n",
       "<style scoped>\n",
       "    .dataframe tbody tr th:only-of-type {\n",
       "        vertical-align: middle;\n",
       "    }\n",
       "\n",
       "    .dataframe tbody tr th {\n",
       "        vertical-align: top;\n",
       "    }\n",
       "\n",
       "    .dataframe thead th {\n",
       "        text-align: right;\n",
       "    }\n",
       "</style>\n",
       "<table border=\"1\" class=\"dataframe\">\n",
       "  <thead>\n",
       "    <tr style=\"text-align: right;\">\n",
       "      <th></th>\n",
       "      <th>goodreads_book_id</th>\n",
       "      <th>tags</th>\n",
       "    </tr>\n",
       "  </thead>\n",
       "  <tbody>\n",
       "    <tr>\n",
       "      <th>0</th>\n",
       "      <td>1</td>\n",
       "      <td>to-read fantasy favorites currently-reading yo...</td>\n",
       "    </tr>\n",
       "    <tr>\n",
       "      <th>1</th>\n",
       "      <td>2</td>\n",
       "      <td>to-read currently-reading fantasy favorites ch...</td>\n",
       "    </tr>\n",
       "    <tr>\n",
       "      <th>2</th>\n",
       "      <td>3</td>\n",
       "      <td>to-read favorites fantasy currently-reading yo...</td>\n",
       "    </tr>\n",
       "    <tr>\n",
       "      <th>3</th>\n",
       "      <td>5</td>\n",
       "      <td>favorites fantasy currently-reading young-adul...</td>\n",
       "    </tr>\n",
       "    <tr>\n",
       "      <th>4</th>\n",
       "      <td>6</td>\n",
       "      <td>fantasy young-adult fiction harry-potter owned...</td>\n",
       "    </tr>\n",
       "  </tbody>\n",
       "</table>\n",
       "</div>"
      ],
      "text/plain": [
       "   goodreads_book_id                                               tags\n",
       "0                  1  to-read fantasy favorites currently-reading yo...\n",
       "1                  2  to-read currently-reading fantasy favorites ch...\n",
       "2                  3  to-read favorites fantasy currently-reading yo...\n",
       "3                  5  favorites fantasy currently-reading young-adul...\n",
       "4                  6  fantasy young-adult fiction harry-potter owned..."
      ]
     },
     "metadata": {},
     "output_type": "display_data"
    }
   ],
   "source": [
    "# Merge book_tags with tags to get tag names\n",
    "book_tags_with_names = book_tags_df.merge(tags_df, on='tag_id')\n",
    "\n",
    "# Group by book and combine the tags into a single string\n",
    "# We'll sort by count to get the most important tags first\n",
    "def combine_tags(group):\n",
    "    return ' '.join(group.sort_values('count', ascending=False)['tag_name'])\n",
    "\n",
    "book_content = book_tags_with_names.groupby('goodreads_book_id').apply(combine_tags).reset_index()\n",
    "book_content.rename(columns={0: 'tags'}, inplace=True)\n",
    "\n",
    "print(\"Combined tags for each book:\")\n",
    "display(book_content.head())"
   ]
  },
  {
   "cell_type": "code",
   "execution_count": 3,
   "id": "3607d1ca",
   "metadata": {},
   "outputs": [
    {
     "name": "stdout",
     "output_type": "stream",
     "text": [
      "Final DataFrame with content column:\n"
     ]
    },
    {
     "name": "stderr",
     "output_type": "stream",
     "text": [
      "C:\\Users\\Hp\\AppData\\Local\\Temp\\ipykernel_17576\\3543391349.py:6: FutureWarning: A value is trying to be set on a copy of a DataFrame or Series through chained assignment using an inplace method.\n",
      "The behavior will change in pandas 3.0. This inplace method will never work because the intermediate object on which we are setting values always behaves as a copy.\n",
      "\n",
      "For example, when doing 'df[col].method(value, inplace=True)', try using 'df.method({col: value}, inplace=True)' or df[col] = df[col].method(value) instead, to perform the operation inplace on the original object.\n",
      "\n",
      "\n",
      "  books_with_content['authors'].fillna('', inplace=True)\n",
      "C:\\Users\\Hp\\AppData\\Local\\Temp\\ipykernel_17576\\3543391349.py:7: FutureWarning: A value is trying to be set on a copy of a DataFrame or Series through chained assignment using an inplace method.\n",
      "The behavior will change in pandas 3.0. This inplace method will never work because the intermediate object on which we are setting values always behaves as a copy.\n",
      "\n",
      "For example, when doing 'df[col].method(value, inplace=True)', try using 'df.method({col: value}, inplace=True)' or df[col] = df[col].method(value) instead, to perform the operation inplace on the original object.\n",
      "\n",
      "\n",
      "  books_with_content['tags'].fillna('', inplace=True)\n"
     ]
    },
    {
     "data": {
      "text/html": [
       "<div>\n",
       "<style scoped>\n",
       "    .dataframe tbody tr th:only-of-type {\n",
       "        vertical-align: middle;\n",
       "    }\n",
       "\n",
       "    .dataframe tbody tr th {\n",
       "        vertical-align: top;\n",
       "    }\n",
       "\n",
       "    .dataframe thead th {\n",
       "        text-align: right;\n",
       "    }\n",
       "</style>\n",
       "<table border=\"1\" class=\"dataframe\">\n",
       "  <thead>\n",
       "    <tr style=\"text-align: right;\">\n",
       "      <th></th>\n",
       "      <th>book_id</th>\n",
       "      <th>title</th>\n",
       "      <th>content</th>\n",
       "    </tr>\n",
       "  </thead>\n",
       "  <tbody>\n",
       "    <tr>\n",
       "      <th>0</th>\n",
       "      <td>2767052</td>\n",
       "      <td>The Hunger Games (The Hunger Games, #1)</td>\n",
       "      <td>The Hunger Games (The Hunger Games, #1) Suzann...</td>\n",
       "    </tr>\n",
       "    <tr>\n",
       "      <th>1</th>\n",
       "      <td>3</td>\n",
       "      <td>Harry Potter and the Sorcerer's Stone (Harry P...</td>\n",
       "      <td>Harry Potter and the Sorcerer's Stone (Harry P...</td>\n",
       "    </tr>\n",
       "    <tr>\n",
       "      <th>2</th>\n",
       "      <td>41865</td>\n",
       "      <td>Twilight (Twilight, #1)</td>\n",
       "      <td>Twilight (Twilight, #1) Stephenie Meyer young-...</td>\n",
       "    </tr>\n",
       "    <tr>\n",
       "      <th>3</th>\n",
       "      <td>2657</td>\n",
       "      <td>To Kill a Mockingbird</td>\n",
       "      <td>To Kill a Mockingbird Harper Lee classics favo...</td>\n",
       "    </tr>\n",
       "    <tr>\n",
       "      <th>4</th>\n",
       "      <td>4671</td>\n",
       "      <td>The Great Gatsby</td>\n",
       "      <td>The Great Gatsby F. Scott Fitzgerald classics ...</td>\n",
       "    </tr>\n",
       "  </tbody>\n",
       "</table>\n",
       "</div>"
      ],
      "text/plain": [
       "   book_id                                              title  \\\n",
       "0  2767052            The Hunger Games (The Hunger Games, #1)   \n",
       "1        3  Harry Potter and the Sorcerer's Stone (Harry P...   \n",
       "2    41865                            Twilight (Twilight, #1)   \n",
       "3     2657                              To Kill a Mockingbird   \n",
       "4     4671                                   The Great Gatsby   \n",
       "\n",
       "                                             content  \n",
       "0  The Hunger Games (The Hunger Games, #1) Suzann...  \n",
       "1  Harry Potter and the Sorcerer's Stone (Harry P...  \n",
       "2  Twilight (Twilight, #1) Stephenie Meyer young-...  \n",
       "3  To Kill a Mockingbird Harper Lee classics favo...  \n",
       "4  The Great Gatsby F. Scott Fitzgerald classics ...  "
      ]
     },
     "metadata": {},
     "output_type": "display_data"
    }
   ],
   "source": [
    "# The 'goodreads_book_id' in book_tags corresponds to 'book_id' in books_df\n",
    "books_with_content = books_df.merge(book_content, left_on='book_id', right_on='goodreads_book_id')\n",
    "\n",
    "# Let's create the final 'content' string for each book\n",
    "# We'll fill missing values with empty strings to avoid errors\n",
    "books_with_content['authors'].fillna('', inplace=True)\n",
    "books_with_content['tags'].fillna('', inplace=True)\n",
    "\n",
    "books_with_content['content'] = books_with_content['title'] + ' ' + books_with_content['authors'] + ' ' + books_with_content['tags']\n",
    "\n",
    "print(\"Final DataFrame with content column:\")\n",
    "display(books_with_content[['book_id', 'title', 'content']].head())"
   ]
  },
  {
   "cell_type": "code",
   "execution_count": 4,
   "id": "39533ddd",
   "metadata": {},
   "outputs": [
    {
     "name": "stdout",
     "output_type": "stream",
     "text": [
      "✅ Processed data saved to 'data/processed/' directory!\n"
     ]
    }
   ],
   "source": [
    "import os\n",
    "\n",
    "# Create the processed directory if it doesn't exist\n",
    "if not os.path.exists('../data/processed'):\n",
    "    os.makedirs('../data/processed')\n",
    "\n",
    "# Save the books dataframe with the new content column\n",
    "books_with_content.to_csv('../data/processed/books_with_content.csv', index=False)\n",
    "\n",
    "# Save the original ratings dataframe (it's already in the right format)\n",
    "ratings_df.to_csv('../data/processed/ratings.csv', index=False)\n",
    "\n",
    "print(\"✅ Processed data saved to 'data/processed/' directory!\")"
   ]
  },
  {
   "cell_type": "code",
   "execution_count": null,
   "id": "e7527797",
   "metadata": {},
   "outputs": [],
   "source": []
  }
 ],
 "metadata": {
  "kernelspec": {
   "display_name": "env",
   "language": "python",
   "name": "python3"
  },
  "language_info": {
   "codemirror_mode": {
    "name": "ipython",
    "version": 3
   },
   "file_extension": ".py",
   "mimetype": "text/x-python",
   "name": "python",
   "nbconvert_exporter": "python",
   "pygments_lexer": "ipython3",
   "version": "3.10.0"
  }
 },
 "nbformat": 4,
 "nbformat_minor": 5
}
